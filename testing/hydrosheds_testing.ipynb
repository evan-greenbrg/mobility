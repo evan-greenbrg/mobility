{
 "cells": [
  {
   "cell_type": "code",
   "execution_count": 4,
   "id": "c4afb5da",
   "metadata": {},
   "outputs": [],
   "source": [
    "import argparse\n",
    "import os\n",
    "import ee\n",
    "import ee.mapclient\n",
    "import fiona\n",
    "import rasterio\n",
    "from shapely.geometry import Polygon, LineString\n",
    "from skimage import measure, draw\n",
    "from shapely import ops\n",
    "import pandas\n",
    "import numpy as np\n",
    "import geemap as geemap\n",
    "import shutil\n",
    "from natsort import natsorted\n",
    "import folium\n",
    "from folium import plugins"
   ]
  },
  {
   "cell_type": "code",
   "execution_count": 2,
   "id": "b03fd982",
   "metadata": {},
   "outputs": [],
   "source": [
    "ee.Initialize()"
   ]
  },
  {
   "cell_type": "code",
   "execution_count": 5,
   "id": "9ba58ef3",
   "metadata": {},
   "outputs": [],
   "source": [
    "# Add custom basemaps to folium\n",
    "basemaps = {\n",
    "    'Google Maps': folium.TileLayer(\n",
    "        tiles = 'https://mt1.google.com/vt/lyrs=m&x={x}&y={y}&z={z}',\n",
    "        attr = 'Google',\n",
    "        name = 'Google Maps',\n",
    "        overlay = True,\n",
    "        control = True\n",
    "    ),\n",
    "    'Google Satellite': folium.TileLayer(\n",
    "        tiles = 'https://mt1.google.com/vt/lyrs=s&x={x}&y={y}&z={z}',\n",
    "        attr = 'Google',\n",
    "        name = 'Google Satellite',\n",
    "        overlay = True,\n",
    "        control = True\n",
    "    ),\n",
    "    'Google Terrain': folium.TileLayer(\n",
    "        tiles = 'https://mt1.google.com/vt/lyrs=p&x={x}&y={y}&z={z}',\n",
    "        attr = 'Google',\n",
    "        name = 'Google Terrain',\n",
    "        overlay = True,\n",
    "        control = True\n",
    "    ),\n",
    "    'Google Satellite Hybrid': folium.TileLayer(\n",
    "        tiles = 'https://mt1.google.com/vt/lyrs=y&x={x}&y={y}&z={z}',\n",
    "        attr = 'Google',\n",
    "        name = 'Google Satellite',\n",
    "        overlay = True,\n",
    "        control = True\n",
    "    ),\n",
    "    'Esri Satellite': folium.TileLayer(\n",
    "        tiles = 'https://server.arcgisonline.com/ArcGIS/rest/services/World_Imagery/MapServer/tile/{z}/{y}/{x}',\n",
    "        attr = 'Esri',\n",
    "        name = 'Esri Satellite',\n",
    "        overlay = True,\n",
    "        control = True\n",
    "    )\n",
    "}"
   ]
  },
  {
   "cell_type": "code",
   "execution_count": 6,
   "id": "d286ccfe",
   "metadata": {},
   "outputs": [],
   "source": [
    "# Define a method for displaying Earth Engine image tiles on a folium map.\n",
    "def add_ee_layer(self, ee_object, vis_params, name):\n",
    "    \n",
    "    try:    \n",
    "        # display ee.Image()\n",
    "        if isinstance(ee_object, ee.image.Image):    \n",
    "            map_id_dict = ee.Image(ee_object).getMapId(vis_params)\n",
    "            folium.raster_layers.TileLayer(\n",
    "            tiles = map_id_dict['tile_fetcher'].url_format,\n",
    "            attr = 'Google Earth Engine',\n",
    "            name = name,\n",
    "            overlay = True,\n",
    "            control = True\n",
    "            ).add_to(self)\n",
    "        # display ee.ImageCollection()\n",
    "        elif isinstance(ee_object, ee.imagecollection.ImageCollection):    \n",
    "            ee_object_new = ee_object.mosaic()\n",
    "            map_id_dict = ee.Image(ee_object_new).getMapId(vis_params)\n",
    "            folium.raster_layers.TileLayer(\n",
    "            tiles = map_id_dict['tile_fetcher'].url_format,\n",
    "            attr = 'Google Earth Engine',\n",
    "            name = name,\n",
    "            overlay = True,\n",
    "            control = True\n",
    "            ).add_to(self)\n",
    "        # display ee.Geometry()\n",
    "        elif isinstance(ee_object, ee.geometry.Geometry):    \n",
    "            folium.GeoJson(\n",
    "            data = ee_object.getInfo(),\n",
    "            name = name,\n",
    "            overlay = True,\n",
    "            control = True\n",
    "        ).add_to(self)\n",
    "        # display ee.FeatureCollection()\n",
    "        elif isinstance(ee_object, ee.featurecollection.FeatureCollection):  \n",
    "            ee_object_new = ee.Image().paint(ee_object, 0, 2)\n",
    "            map_id_dict = ee.Image(ee_object_new).getMapId(vis_params)\n",
    "            folium.raster_layers.TileLayer(\n",
    "            tiles = map_id_dict['tile_fetcher'].url_format,\n",
    "            attr = 'Google Earth Engine',\n",
    "            name = name,\n",
    "            overlay = True,\n",
    "            control = True\n",
    "        ).add_to(self)\n",
    "    \n",
    "    except:\n",
    "        print(\"Could not display {}\".format(name))\n",
    "    \n",
    "# Add EE drawing method to folium.\n",
    "folium.Map.add_ee_layer = add_ee_layer"
   ]
  },
  {
   "cell_type": "code",
   "execution_count": 31,
   "id": "1bbeeeca",
   "metadata": {},
   "outputs": [],
   "source": [
    "polygon_path = '/Users/Evan/Documents/Mobility/GIS/Taiwan/Taiwan1/Taiwan1.gpkg'\n",
    "polygon_name = polygon_path.split('/')[-1].split('.')[0]\n",
    "with fiona.open(polygon_path, layer=polygon_name) as layer:\n",
    "    for feature in layer:\n",
    "        geom = feature['geometry']\n",
    "        poly = ee.Geometry.Polygon(geom['coordinates'])"
   ]
  },
  {
   "cell_type": "code",
   "execution_count": 48,
   "id": "f27f49bd",
   "metadata": {},
   "outputs": [],
   "source": [
    "#ds = ee.Image('WWF/HydroSHEDS/03CONDEM')\n",
    "ds = ee.FeatureCollection(\"WWF/HydroSHEDS/v1/Basins/hybas_12\").filterBounds(\n",
    "    poly\n",
    ")\n",
    "\n",
    "dataset_vis = {\n",
    "  'color': \"B2B2B3\",\n",
    "  'width': 1.0,\n",
    "}"
   ]
  },
  {
   "cell_type": "code",
   "execution_count": 92,
   "id": "e90803e9",
   "metadata": {},
   "outputs": [
    {
     "name": "stdout",
     "output_type": "stream",
     "text": [
      "[4120969680, 4120972530, 4120972420]\n"
     ]
    }
   ],
   "source": [
    "basin_ids = []\n",
    "for feature in ds.getInfo()['features']:\n",
    "    basin_id = feature['properties']['HYBAS_ID']\n",
    "    basin_ids.append(basin_id)\n",
    "\n",
    "print(basin_ids)\n",
    "upstreams = basin_ids"
   ]
  },
  {
   "cell_type": "code",
   "execution_count": 93,
   "id": "f5460576",
   "metadata": {},
   "outputs": [
    {
     "name": "stdout",
     "output_type": "stream",
     "text": [
      "[]\n",
      "[4120969680, 4120972530, 4120972420, 4120972530, 4120972420, 4120974340, 4120974380, 4121522810, 4120974340, 4120974380, 4121522810, 4120974820, 4120975050, 4121526670, 4120974820, 4120975050, 4121526670, 4120972240, 4120972310, 4120972240, 4120972310]\n"
     ]
    }
   ],
   "source": [
    "sheds = ee.FeatureCollection(\"WWF/HydroSHEDS/v1/Basins/hybas_12\")\n",
    "\n",
    "while len(new_upstreams):\n",
    "    new_upstreams = []\n",
    "    for upstream in upstreams:\n",
    "        shed_filter = sheds.filter(ee.Filter.eq('NEXT_DOWN', upstream))\n",
    "        upstreams = []\n",
    "        for feature in shed_filter.getInfo()['features']:\n",
    "            new_upstreams.append(feature['properties']['HYBAS_ID'])\n",
    "\n",
    "    upstreams = new_upstreams\n",
    "    basin_ids += new_upstreams\n",
    "    \n",
    "print(upstreams)\n",
    "print(basin_ids)"
   ]
  },
  {
   "cell_type": "code",
   "execution_count": 107,
   "id": "194d5b9d",
   "metadata": {},
   "outputs": [],
   "source": [
    "shed_polys = []\n",
    "for basin_id in basin_ids:\n",
    "    shed = sheds.filter(ee.Filter.eq('HYBAS_ID', basin_id)).getInfo()['features'][0]['geometry']\n",
    "    shed_polys.append(ee.Feature(ee.Geometry.Polygon(shed['coordinates'])))\n",
    "\n",
    "fcShed = ee.FeatureCollection(shed_polys)\n",
    "area_shed = fcShed.union(1).geometry()"
   ]
  },
  {
   "cell_type": "code",
   "execution_count": 111,
   "id": "4cd25059",
   "metadata": {},
   "outputs": [
    {
     "data": {
      "text/plain": [
       "ee.geometry.Geometry"
      ]
     },
     "execution_count": 111,
     "metadata": {},
     "output_type": "execute_result"
    }
   ],
   "source": [
    "type(poly)"
   ]
  },
  {
   "cell_type": "code",
   "execution_count": 108,
   "id": "85a99cd0",
   "metadata": {},
   "outputs": [
    {
     "data": {
      "text/html": [
       "<div style=\"width:100%;\"><div style=\"position:relative;width:100%;height:0;padding-bottom:60%;\"><span style=\"color:#565656\">Make this Notebook Trusted to load map: File -> Trust Notebook</span><iframe src=\"about:blank\" style=\"position:absolute;width:100%;height:100%;left:0;top:0;border:none !important;\" data-html=%3C%21DOCTYPE%20html%3E%0A%3Chead%3E%20%20%20%20%0A%20%20%20%20%3Cmeta%20http-equiv%3D%22content-type%22%20content%3D%22text/html%3B%20charset%3DUTF-8%22%20/%3E%0A%20%20%20%20%0A%20%20%20%20%20%20%20%20%3Cscript%3E%0A%20%20%20%20%20%20%20%20%20%20%20%20L_NO_TOUCH%20%3D%20false%3B%0A%20%20%20%20%20%20%20%20%20%20%20%20L_DISABLE_3D%20%3D%20false%3B%0A%20%20%20%20%20%20%20%20%3C/script%3E%0A%20%20%20%20%0A%20%20%20%20%3Cstyle%3Ehtml%2C%20body%20%7Bwidth%3A%20100%25%3Bheight%3A%20100%25%3Bmargin%3A%200%3Bpadding%3A%200%3B%7D%3C/style%3E%0A%20%20%20%20%3Cstyle%3E%23map%20%7Bposition%3Aabsolute%3Btop%3A0%3Bbottom%3A0%3Bright%3A0%3Bleft%3A0%3B%7D%3C/style%3E%0A%20%20%20%20%3Cscript%20src%3D%22https%3A//cdn.jsdelivr.net/npm/leaflet%401.6.0/dist/leaflet.js%22%3E%3C/script%3E%0A%20%20%20%20%3Cscript%20src%3D%22https%3A//code.jquery.com/jquery-1.12.4.min.js%22%3E%3C/script%3E%0A%20%20%20%20%3Cscript%20src%3D%22https%3A//maxcdn.bootstrapcdn.com/bootstrap/3.2.0/js/bootstrap.min.js%22%3E%3C/script%3E%0A%20%20%20%20%3Cscript%20src%3D%22https%3A//cdnjs.cloudflare.com/ajax/libs/Leaflet.awesome-markers/2.0.2/leaflet.awesome-markers.js%22%3E%3C/script%3E%0A%20%20%20%20%3Clink%20rel%3D%22stylesheet%22%20href%3D%22https%3A//cdn.jsdelivr.net/npm/leaflet%401.6.0/dist/leaflet.css%22/%3E%0A%20%20%20%20%3Clink%20rel%3D%22stylesheet%22%20href%3D%22https%3A//maxcdn.bootstrapcdn.com/bootstrap/3.2.0/css/bootstrap.min.css%22/%3E%0A%20%20%20%20%3Clink%20rel%3D%22stylesheet%22%20href%3D%22https%3A//maxcdn.bootstrapcdn.com/bootstrap/3.2.0/css/bootstrap-theme.min.css%22/%3E%0A%20%20%20%20%3Clink%20rel%3D%22stylesheet%22%20href%3D%22https%3A//maxcdn.bootstrapcdn.com/font-awesome/4.6.3/css/font-awesome.min.css%22/%3E%0A%20%20%20%20%3Clink%20rel%3D%22stylesheet%22%20href%3D%22https%3A//cdnjs.cloudflare.com/ajax/libs/Leaflet.awesome-markers/2.0.2/leaflet.awesome-markers.css%22/%3E%0A%20%20%20%20%3Clink%20rel%3D%22stylesheet%22%20href%3D%22https%3A//cdn.jsdelivr.net/gh/python-visualization/folium/folium/templates/leaflet.awesome.rotate.min.css%22/%3E%0A%20%20%20%20%0A%20%20%20%20%20%20%20%20%20%20%20%20%3Cmeta%20name%3D%22viewport%22%20content%3D%22width%3Ddevice-width%2C%0A%20%20%20%20%20%20%20%20%20%20%20%20%20%20%20%20initial-scale%3D1.0%2C%20maximum-scale%3D1.0%2C%20user-scalable%3Dno%22%20/%3E%0A%20%20%20%20%20%20%20%20%20%20%20%20%3Cstyle%3E%0A%20%20%20%20%20%20%20%20%20%20%20%20%20%20%20%20%23map_c110f741cf674e559c3c3cc865c4ed62%20%7B%0A%20%20%20%20%20%20%20%20%20%20%20%20%20%20%20%20%20%20%20%20position%3A%20relative%3B%0A%20%20%20%20%20%20%20%20%20%20%20%20%20%20%20%20%20%20%20%20width%3A%20100.0%25%3B%0A%20%20%20%20%20%20%20%20%20%20%20%20%20%20%20%20%20%20%20%20height%3A%20500.0px%3B%0A%20%20%20%20%20%20%20%20%20%20%20%20%20%20%20%20%20%20%20%20left%3A%200.0%25%3B%0A%20%20%20%20%20%20%20%20%20%20%20%20%20%20%20%20%20%20%20%20top%3A%200.0%25%3B%0A%20%20%20%20%20%20%20%20%20%20%20%20%20%20%20%20%7D%0A%20%20%20%20%20%20%20%20%20%20%20%20%3C/style%3E%0A%20%20%20%20%20%20%20%20%0A%20%20%20%20%3Cscript%20src%3D%22https%3A//cdnjs.cloudflare.com/ajax/libs/leaflet.fullscreen/1.4.2/Control.FullScreen.min.js%22%3E%3C/script%3E%0A%20%20%20%20%3Clink%20rel%3D%22stylesheet%22%20href%3D%22https%3A//cdnjs.cloudflare.com/ajax/libs/leaflet.fullscreen/1.4.2/Control.FullScreen.min.css%22/%3E%0A%3C/head%3E%0A%3Cbody%3E%20%20%20%20%0A%20%20%20%20%0A%20%20%20%20%20%20%20%20%20%20%20%20%3Cdiv%20class%3D%22folium-map%22%20id%3D%22map_c110f741cf674e559c3c3cc865c4ed62%22%20%3E%3C/div%3E%0A%20%20%20%20%20%20%20%20%0A%3C/body%3E%0A%3Cscript%3E%20%20%20%20%0A%20%20%20%20%0A%20%20%20%20%20%20%20%20%20%20%20%20var%20map_c110f741cf674e559c3c3cc865c4ed62%20%3D%20L.map%28%0A%20%20%20%20%20%20%20%20%20%20%20%20%20%20%20%20%22map_c110f741cf674e559c3c3cc865c4ed62%22%2C%0A%20%20%20%20%20%20%20%20%20%20%20%20%20%20%20%20%7B%0A%20%20%20%20%20%20%20%20%20%20%20%20%20%20%20%20%20%20%20%20center%3A%20%5B23.35%2C%20121.33%5D%2C%0A%20%20%20%20%20%20%20%20%20%20%20%20%20%20%20%20%20%20%20%20crs%3A%20L.CRS.EPSG3857%2C%0A%20%20%20%20%20%20%20%20%20%20%20%20%20%20%20%20%20%20%20%20zoom%3A%2010%2C%0A%20%20%20%20%20%20%20%20%20%20%20%20%20%20%20%20%20%20%20%20zoomControl%3A%20true%2C%0A%20%20%20%20%20%20%20%20%20%20%20%20%20%20%20%20%20%20%20%20preferCanvas%3A%20false%2C%0A%20%20%20%20%20%20%20%20%20%20%20%20%20%20%20%20%7D%0A%20%20%20%20%20%20%20%20%20%20%20%20%29%3B%0A%0A%20%20%20%20%20%20%20%20%20%20%20%20%0A%0A%20%20%20%20%20%20%20%20%0A%20%20%20%20%0A%20%20%20%20%20%20%20%20%20%20%20%20var%20tile_layer_262b71799da74f459b4ad30d05caa086%20%3D%20L.tileLayer%28%0A%20%20%20%20%20%20%20%20%20%20%20%20%20%20%20%20%22https%3A//%7Bs%7D.tile.openstreetmap.org/%7Bz%7D/%7Bx%7D/%7By%7D.png%22%2C%0A%20%20%20%20%20%20%20%20%20%20%20%20%20%20%20%20%7B%22attribution%22%3A%20%22Data%20by%20%5Cu0026copy%3B%20%5Cu003ca%20href%3D%5C%22http%3A//openstreetmap.org%5C%22%5Cu003eOpenStreetMap%5Cu003c/a%5Cu003e%2C%20under%20%5Cu003ca%20href%3D%5C%22http%3A//www.openstreetmap.org/copyright%5C%22%5Cu003eODbL%5Cu003c/a%5Cu003e.%22%2C%20%22detectRetina%22%3A%20false%2C%20%22maxNativeZoom%22%3A%2018%2C%20%22maxZoom%22%3A%2018%2C%20%22minZoom%22%3A%200%2C%20%22noWrap%22%3A%20false%2C%20%22opacity%22%3A%201%2C%20%22subdomains%22%3A%20%22abc%22%2C%20%22tms%22%3A%20false%7D%0A%20%20%20%20%20%20%20%20%20%20%20%20%29.addTo%28map_c110f741cf674e559c3c3cc865c4ed62%29%3B%0A%20%20%20%20%20%20%20%20%0A%20%20%20%20%0A%20%20%20%20%20%20%20%20%20%20%20%20var%20tile_layer_69ba5525997e4d7aaf2401a5c1f30db6%20%3D%20L.tileLayer%28%0A%20%20%20%20%20%20%20%20%20%20%20%20%20%20%20%20%22https%3A//mt1.google.com/vt/lyrs%3Dm%5Cu0026x%3D%7Bx%7D%5Cu0026y%3D%7By%7D%5Cu0026z%3D%7Bz%7D%22%2C%0A%20%20%20%20%20%20%20%20%20%20%20%20%20%20%20%20%7B%22attribution%22%3A%20%22Google%22%2C%20%22detectRetina%22%3A%20false%2C%20%22maxNativeZoom%22%3A%2018%2C%20%22maxZoom%22%3A%2018%2C%20%22minZoom%22%3A%200%2C%20%22noWrap%22%3A%20false%2C%20%22opacity%22%3A%201%2C%20%22subdomains%22%3A%20%22abc%22%2C%20%22tms%22%3A%20false%7D%0A%20%20%20%20%20%20%20%20%20%20%20%20%29.addTo%28map_c110f741cf674e559c3c3cc865c4ed62%29%3B%0A%20%20%20%20%20%20%20%20%0A%20%20%20%20%0A%20%20%20%20%20%20%20%20%20%20%20%20var%20tile_layer_391a67739dc74368a807a7588f3870d8%20%3D%20L.tileLayer%28%0A%20%20%20%20%20%20%20%20%20%20%20%20%20%20%20%20%22https%3A//mt1.google.com/vt/lyrs%3Dy%5Cu0026x%3D%7Bx%7D%5Cu0026y%3D%7By%7D%5Cu0026z%3D%7Bz%7D%22%2C%0A%20%20%20%20%20%20%20%20%20%20%20%20%20%20%20%20%7B%22attribution%22%3A%20%22Google%22%2C%20%22detectRetina%22%3A%20false%2C%20%22maxNativeZoom%22%3A%2018%2C%20%22maxZoom%22%3A%2018%2C%20%22minZoom%22%3A%200%2C%20%22noWrap%22%3A%20false%2C%20%22opacity%22%3A%201%2C%20%22subdomains%22%3A%20%22abc%22%2C%20%22tms%22%3A%20false%7D%0A%20%20%20%20%20%20%20%20%20%20%20%20%29.addTo%28map_c110f741cf674e559c3c3cc865c4ed62%29%3B%0A%20%20%20%20%20%20%20%20%0A%20%20%20%20%0A%0A%20%20%20%20%20%20%20%20function%20geo_json_44018744a8f048809986cc5634f7faea_onEachFeature%28feature%2C%20layer%29%20%7B%0A%20%20%20%20%20%20%20%20%20%20%20%20layer.on%28%7B%0A%20%20%20%20%20%20%20%20%20%20%20%20%7D%29%3B%0A%20%20%20%20%20%20%20%20%7D%3B%0A%20%20%20%20%20%20%20%20var%20geo_json_44018744a8f048809986cc5634f7faea%20%3D%20L.geoJson%28null%2C%20%7B%0A%20%20%20%20%20%20%20%20%20%20%20%20%20%20%20%20onEachFeature%3A%20geo_json_44018744a8f048809986cc5634f7faea_onEachFeature%2C%0A%20%20%20%20%20%20%20%20%20%20%20%20%0A%20%20%20%20%20%20%20%20%7D%29%3B%0A%0A%20%20%20%20%20%20%20%20function%20geo_json_44018744a8f048809986cc5634f7faea_add%20%28data%29%20%7B%0A%20%20%20%20%20%20%20%20%20%20%20%20geo_json_44018744a8f048809986cc5634f7faea%0A%20%20%20%20%20%20%20%20%20%20%20%20%20%20%20%20.addData%28data%29%0A%20%20%20%20%20%20%20%20%20%20%20%20%20%20%20%20.addTo%28map_c110f741cf674e559c3c3cc865c4ed62%29%3B%0A%20%20%20%20%20%20%20%20%7D%0A%20%20%20%20%20%20%20%20%20%20%20%20geo_json_44018744a8f048809986cc5634f7faea_add%28%7B%22coordinates%22%3A%20%5B%5B%5B121.33568363877447%2C%2023.32269520548428%5D%2C%20%5B121.35198472666949%2C%2023.390581244063466%5D%2C%20%5B121.33969984883555%2C%2023.390581244063466%5D%2C%20%5B121.32127253208466%2C%2023.325515444541896%5D%2C%20%5B121.33568363877447%2C%2023.32269520548428%5D%5D%5D%2C%20%22type%22%3A%20%22Polygon%22%7D%29%3B%0A%0A%20%20%20%20%20%20%20%20%0A%20%20%20%20%0A%0A%20%20%20%20%20%20%20%20function%20geo_json_1e247b7309eb43c49d6aff6ed17e57a4_onEachFeature%28feature%2C%20layer%29%20%7B%0A%20%20%20%20%20%20%20%20%20%20%20%20layer.on%28%7B%0A%20%20%20%20%20%20%20%20%20%20%20%20%7D%29%3B%0A%20%20%20%20%20%20%20%20%7D%3B%0A%20%20%20%20%20%20%20%20var%20geo_json_1e247b7309eb43c49d6aff6ed17e57a4%20%3D%20L.geoJson%28null%2C%20%7B%0A%20%20%20%20%20%20%20%20%20%20%20%20%20%20%20%20onEachFeature%3A%20geo_json_1e247b7309eb43c49d6aff6ed17e57a4_onEachFeature%2C%0A%20%20%20%20%20%20%20%20%20%20%20%20%0A%20%20%20%20%20%20%20%20%7D%29%3B%0A%0A%20%20%20%20%20%20%20%20function%20geo_json_1e247b7309eb43c49d6aff6ed17e57a4_add%20%28data%29%20%7B%0A%20%20%20%20%20%20%20%20%20%20%20%20geo_json_1e247b7309eb43c49d6aff6ed17e57a4%0A%20%20%20%20%20%20%20%20%20%20%20%20%20%20%20%20.addData%28data%29%0A%20%20%20%20%20%20%20%20%20%20%20%20%20%20%20%20.addTo%28map_c110f741cf674e559c3c3cc865c4ed62%29%3B%0A%20%20%20%20%20%20%20%20%7D%0A%20%20%20%20%20%20%20%20%20%20%20%20geo_json_1e247b7309eb43c49d6aff6ed17e57a4_add%28%7B%22coordinates%22%3A%20%5B%5B%5B120.98750017609478%2C%2023.35416719147714%5D%2C%20%5B121.00741904411746%2C%2023.35356971133906%5D%2C%20%5B121.00922045985337%2C%2023.34654216072025%5D%2C%20%5B121.01989556808212%2C%2023.345133056933253%5D%2C%20%5B121.04640049009967%2C%2023.317705144390033%5D%2C%20%5B121.04526789112256%2C%2023.310289664618686%5D%2C%20%5B121.04223570670679%2C%2023.306378992909863%5D%2C%20%5B121.0416648836178%2C%2023.30416733759898%5D%2C%20%5B121.04409066624123%2C%2023.30381503274567%5D%2C%20%5B121.04757769241023%2C%2023.300354782243538%5D%2C%20%5B121.04999898214847%2C%2023.299998021270866%5D%2C%20%5B121.05416822068005%2C%2023.29999805247347%5D%2C%20%5B121.05416822068005%2C%2023.295833254866768%5D%2C%20%5B121.05416822068005%2C%2023.28749915078487%5D%2C%20%5B121.05748132484223%2C%2023.286647474690408%5D%2C%20%5B121.05889931184555%2C%2023.28112264111922%5D%2C%20%5B121.06193151394571%2C%2023.27721205314564%5D%2C%20%5B121.06306859189199%2C%2023.260289733221473%5D%2C%20%5B121.07026560849683%2C%2023.2522098741944%5D%2C%20%5B121.07140260760966%2C%2023.243621616407278%5D%2C%20%5B121.07859964977725%2C%2023.235541710433097%5D%2C%20%5B121.07916592484584%2C%2023.233334505938174%5D%2C%20%5B121.09382745201808%2C%2023.232714709394276%5D%2C%20%5B121.0978406599622%2C%2023.229785074118826%5D%2C%20%5B121.10216151785589%2C%2023.228549855695892%5D%2C%20%5B121.10617470888837%2C%2023.225615782810213%5D%2C%20%5B121.12832755215541%2C%2023.224313719827702%5D%2C%20%5B121.13271531855221%2C%2023.218829017930187%5D%2C%20%5B121.13395041690104%2C%2023.21450816470263%5D%2C%20%5B121.13688456560365%2C%2023.210494966111234%5D%2C%20%5B121.13831149070988%2C%2023.20068941419336%5D%2C%20%5B121.14999880173488%2C%2023.199998274602766%5D%2C%20%5B121.15064086699927%2C%2023.1978668030277%5D%2C%20%5B121.15481009906215%2C%2023.191989743573295%5D%2C%20%5B121.15352592261657%2C%2023.181198688541997%5D%2C%20%5B121.14935664560633%2C%2023.175321581488806%5D%2C%20%5B121.15064086699927%2C%2023.16453056700017%5D%2C%20%5B121.15352592261657%2C%2023.160468293903804%5D%2C%20%5B121.15513120655973%2C%2023.155130747655953%5D%2C%20%5B121.16046877081543%2C%2023.1535255046805%5D%2C%20%5B121.164530951972%2C%2023.150644925587446%5D%2C%20%5B121.17839433649709%2C%2023.149226915371866%5D%2C%20%5B121.17996389528261%2C%2023.133834098651526%5D%2C%20%5B121.18953319365899%2C%2023.125642740334012%5D%2C%20%5B121.193800490562%2C%2023.124358509181615%5D%2C%20%5B121.20619679841887%2C%2023.113143910721096%5D%2C%20%5B121.21880267929023%2C%2023.111855198457597%5D%2C%20%5B121.22286495978369%2C%2023.10897461695094%5D%2C%20%5B121.22713673327023%2C%2023.107690411816314%5D%2C%20%5B121.23119898941071%2C%2023.104809787459555%5D%2C%20%5B121.23546635660239%2C%2023.103525578103447%5D%2C%20%5B121.2436978397118%2C%2023.09647579487099%5D%2C%20%5B121.25315116621398%2C%2023.095035456869336%5D%2C%20%5B121.25416782940516%2C%2023.091668807194758%5D%2C%20%5B121.25748096227305%2C%2023.09251606190736%5D%2C%20%5B121.25930026397792%2C%2023.099606061449833%5D%2C%20%5B121.26445500327243%2C%2023.10360142045579%5D%2C%20%5B121.27721243131315%2C%2023.104734035876305%5D%2C%20%5B121.28112305603086%2C%2023.107766238703327%5D%2C%20%5B121.31054421118206%2C%2023.10889881895905%5D%2C%20%5B121.31445485986804%2C%2023.11193099729809%5D%2C%20%5B121.31666656524297%2C%2023.112501728097975%5D%2C%20%5B121.31701882827227%2C%2023.11492309307202%5D%2C%20%5B121.3204790841319%2C%2023.11841011326731%5D%2C%20%5B121.32083142296572%2C%2023.145833548069348%5D%2C%20%5B121.3204790841319%2C%2023.15658892905483%5D%2C%20%5B121.31701882827227%2C%2023.160075954733184%5D%2C%20%5B121.31631430115384%2C%2023.164213972853453%5D%2C%20%5B121.3204790841319%2C%2023.168409937474404%5D%2C%20%5B121.32083142296572%2C%2023.179165289858464%5D%2C%20%5B121.3272123513713%2C%2023.179736049626207%5D%2C%20%5B121.33112296676201%2C%2023.182763819298675%5D%2C%20%5B121.33664778619305%2C%2023.1841862383272%5D%2C%20%5B121.33806584126913%2C%2023.189711102610946%5D%2C%20%5B121.3410979779586%2C%2023.19362176387409%5D%2C%20%5B121.34223508527671%2C%2023.19804517058057%5D%2C%20%5B121.34526728823593%2C%2023.20195576864259%5D%2C%20%5B121.34639990478259%2C%2023.214708801990714%5D%2C%20%5B121.3536013611473%2C%2023.222788673478657%5D%2C%20%5B121.3547338967982%2C%2023.23554174842471%5D%2C%20%5B121.35776612396704%2C%2023.239456843369588%5D%2C%20%5B121.35889870641692%2C%2023.243875793365188%5D%2C%20%5B121.36203351440847%2C%2023.247915701966228%5D%2C%20%5B121.35880063870061%2C%2023.25208497559239%5D%2C%20%5B121.36289411045631%2C%2023.257364604990272%5D%2C%20%5B121.36998401435154%2C%2023.25918387952874%5D%2C%20%5B121.37140201312977%2C%2023.264708743878273%5D%2C%20%5B121.37859904586387%2C%2023.27278862598442%5D%2C%20%5B121.37916536802052%2C%2023.295833263399075%5D%2C%20%5B121.37973613631395%2C%2023.302209725789783%5D%2C%20%5B121.38693308960502%2C%2023.310289657260082%5D%2C%20%5B121.3880657372117%2C%2023.31470863598231%5D%2C%20%5B121.39943198813867%2C%2023.326957736024116%5D%2C%20%5B121.40056904918595%2C%2023.331376699074166%5D%2C%20%5B121.40776601999482%2C%2023.33945666816832%5D%2C%20%5B121.40904131642354%2C%2023.349110590538036%5D%2C%20%5B121.41470885954752%2C%2023.350568718763107%5D%2C%20%5B121.4212771000742%2C%2023.356040008883877%5D%2C%20%5B121.41998842180942%2C%2023.361787783823903%5D%2C%20%5B121.41028991249078%2C%2023.3630675311004%5D%2C%20%5B121.40487202273339%2C%2023.36758464072077%5D%2C%20%5B121.40360121566329%2C%2023.377211839787098%5D%2C%20%5B121.40056904918595%2C%2023.381122460364004%5D%2C%20%5B121.3999982959956%2C%2023.383334215545272%5D%2C%20%5B121.40066263360232%2C%2023.390767532852415%5D%2C%20%5B121.40748066145079%2C%2023.392515427348535%5D%2C%20%5B121.40889863880817%2C%2023.398044723985503%5D%2C%20%5B121.41193084920074%2C%2023.401955349202034%5D%2C%20%5B121.41306787495077%2C%2023.40637884628551%5D%2C%20%5B121.41610006350359%2C%2023.410289419952125%5D%2C%20%5B121.41723268810254%2C%2023.41470841874915%5D%2C%20%5B121.42443411810535%2C%2023.422788291144876%5D%2C%20%5B121.4258521496217%2C%2023.428317576962577%5D%2C%20%5B121.43137691794423%2C%2023.42973556086743%5D%2C%20%5B121.4352876073601%2C%2023.43276780382997%5D%2C%20%5B121.44081689476296%2C%2023.434185736132136%5D%2C%20%5B121.44223489984569%2C%2023.439710619276166%5D%2C%20%5B121.44526702178997%2C%2023.443621276298646%5D%2C%20%5B121.44583336710753%2C%2023.450002171298284%5D%2C%20%5B121.44526702178997%2C%2023.45637871764967%5D%2C%20%5B121.44070538218918%2C%2023.461845595752248%5D%2C%20%5B121.42695799636054%2C%2023.463067331087448%5D%2C%20%5B121.42304292703068%2C%2023.466099538268082%5D%2C%20%5B121.41862394896313%2C%2023.467232194152892%5D%2C%20%5B121.41470885954752%2C%2023.470264366272893%5D%2C%20%5B121.40904131642354%2C%2023.4717224801532%5D%2C%20%5B121.40776601999485%2C%2023.48137639823462%5D%2C%20%5B121.40473378792623%2C%2023.485291548629476%5D%2C%20%5B121.40416750317665%2C%2023.48749881022378%5D%2C%20%5B121.3999982959956%2C%2023.48749880899841%5D%2C%20%5B121.3936708065343%2C%2023.488118633395963%5D%2C%20%5B121.38966206686014%2C%2023.49104819346853%5D%2C%20%5B121.35081438664781%2C%2023.492323558473597%5D%2C%20%5B121.34938304898728%2C%2023.502160294540023%5D%2C%20%5B121.34644894386403%2C%2023.506173511596412%5D%2C%20%5B121.34521371118716%2C%2023.5104943717296%5D%2C%20%5B121.33811933433296%2C%2023.518672356782343%5D%2C%20%5B121.33688418807783%2C%2023.521303225962903%5D%2C%20%5B121.34104893662959%2C%2023.527006391749577%5D%2C%20%5B121.34228412610757%2C%2023.534069604781948%5D%2C%20%5B121.3339500307039%2C%2023.543674559443634%5D%2C%20%5B121.3327149276476%2C%2023.5479953598916%5D%2C%20%5B121.32561603915849%2C%2023.556173397942036%5D%2C%20%5B121.32401071584792%2C%2023.561800761457366%5D%2C%20%5B121.30759673662486%2C%2023.56311622958349%5D%2C%20%5B121.2979918789873%2C%2023.554782149207778%5D%2C%20%5B121.29238230207136%2C%2023.553181346014505%5D%2C%20%5B121.29166889698463%2C%2023.54583273834032%5D%2C%20%5B121.28945715652324%2C%2023.545266400746577%5D%2C%20%5B121.28554209480518%2C%2023.54223422700484%5D%2C%20%5B121.26445500327243%2C%2023.54109714442435%5D%2C%20%5B121.25946967050153%2C%2023.537235594759693%5D%2C%20%5B121.25833263369495%2C%2023.54166792109454%5D%2C%20%5B121.25798036923955%2C%2023.55659252591%5D%2C%20%5B121.25035525355722%2C%2023.56424435429652%5D%2C%20%5B121.24964630939338%2C%2023.57325617506611%5D%2C%20%5B121.24618606275007%2C%2023.576743229616103%5D%2C%20%5B121.24548146018424%2C%2023.58575950604583%5D%2C%20%5B121.24202126602869%2C%2023.589242074198243%5D%2C%20%5B121.24166449869485%2C%2023.60833146658248%5D%2C%20%5B121.23090918226578%2C%2023.607979190454913%5D%2C%20%5B121.2232573352331%2C%2023.60035421080282%5D%2C%20%5B121.21666679233407%2C%2023.600001915113346%5D%2C%20%5B121.2144550416713%2C%2023.59943111771873%5D%2C%20%5B121.21054447729693%2C%2023.59639897917908%5D%2C%20%5B121.19257422634549%2C%2023.5951950269675%5D%2C%20%5B121.1916645896012%2C%2023.59166788111553%5D%2C%20%5B121.18924328450512%2C%2023.591311139836378%5D%2C%20%5B121.18125259222295%2C%2023.583347163404955%5D%2C%20%5B121.17742219930199%2C%2023.587146303417413%5D%2C%20%5B121.16424115658938%2C%2023.587855297614684%5D%2C%20%5B121.16075857538569%2C%2023.591311132887657%5D%2C%20%5B121.15416805627052%2C%2023.591667871118243%5D%2C%20%5B121.15359724183764%2C%2023.58945611400016%5D%2C%20%5B121.14943242492943%2C%2023.58407847872083%5D%2C%20%5B121.15056508844478%2C%2023.576957248313853%5D%2C%20%5B121.15473432316001%2C%2023.57157958975245%5D%2C%20%5B121.15342777121676%2C%2023.563379337843035%5D%2C%20%5B121.14644928785117%2C%2023.56158678105047%5D%2C%20%5B121.14526763725632%2C%2023.535291451029472%5D%2C%20%5B121.14223544673933%2C%2023.53137637715717%5D%2C%20%5B121.1410984209732%2C%2023.526957397570726%5D%2C%20%5B121.13390137686059%2C%2023.5188774550811%5D%2C%20%5B121.13333509842802%2C%2023.516665761059272%5D%2C%20%5B121.13090937178903%2C%2023.51701801592308%5D%2C%20%5B121.12742231979074%2C%2023.520478320590033%5D%2C%20%5B121.09828661223747%2C%2023.521187266508747%5D%2C%20%5B121.0940905728732%2C%2023.51701803926224%5D%2C%20%5B121.07257536719064%2C%2023.516313539297254%5D%2C%20%5B121.0670237900391%2C%2023.510788687658703%5D%2C%20%5B121.06666711032558%2C%2023.50833170461324%5D%2C%20%5B121.06600710137498%2C%2023.500898398587744%5D%2C%20%5B121.05872988204027%2C%2023.499034440474958%5D%2C%20%5B121.05473452338157%2C%2023.49387529658442%5D%2C%20%5B121.05331657477684%2C%2023.488350478383392%5D%2C%20%5B121.04999898214847%2C%2023.487498764992342%5D%2C%20%5B121.04939696653668%2C%2023.485327173192047%5D%2C%20%5B121.04106291384224%2C%2023.475789171428666%5D%2C%20%5B121.04273505440423%2C%2023.471695747648877%5D%2C%20%5B121.04981615587144%2C%2023.469724817511086%5D%2C%20%5B121.05477021243381%2C%2023.46304058537786%5D%2C%20%5B121.05337448269046%2C%2023.455107860389127%5D%2C%20%5B121.04782735544768%2C%2023.45356056465001%5D%2C%20%5B121.04384090797872%2C%2023.450604183357342%5D%2C%20%5B121.03532852206455%2C%2023.449395735726956%5D%2C%20%5B121.02717285800233%2C%2023.442270089704703%5D%2C%20%5B121.01745197395981%2C%2023.440887789940387%5D%2C%20%5B121.01619450165899%2C%2023.43239319453317%5D%2C%20%5B121.02439482994338%2C%2023.423006794592148%5D%2C%20%5B121.02500125763511%2C%2023.40416708435414%5D%2C%20%5B121.02257552859498%2C%2023.403814796186715%5D%2C%20%5B121.01909294206912%2C%2023.400354569671833%5D%2C%20%5B121.01007661733543%2C%2023.399645576176344%5D%2C%20%5B121.00452504936511%2C%2023.3941251922325%5D%2C%20%5B121.00381158164552%2C%2023.389242514426062%5D%2C%20%5B120.98785245116235%2C%2023.373256581196742%5D%2C%20%5B120.98750017609478%2C%2023.366666075442605%5D%2C%20%5B120.98750017609478%2C%2023.35416719147714%5D%5D%5D%2C%20%22type%22%3A%20%22Polygon%22%7D%29%3B%0A%0A%20%20%20%20%20%20%20%20%0A%20%20%20%20%0A%20%20%20%20%20%20%20%20%20%20%20%20var%20layer_control_cb77b4e57d5e45e2b8b6048cfbe0e8ed%20%3D%20%7B%0A%20%20%20%20%20%20%20%20%20%20%20%20%20%20%20%20base_layers%20%3A%20%7B%0A%20%20%20%20%20%20%20%20%20%20%20%20%20%20%20%20%20%20%20%20%22openstreetmap%22%20%3A%20tile_layer_262b71799da74f459b4ad30d05caa086%2C%0A%20%20%20%20%20%20%20%20%20%20%20%20%20%20%20%20%7D%2C%0A%20%20%20%20%20%20%20%20%20%20%20%20%20%20%20%20overlays%20%3A%20%20%7B%0A%20%20%20%20%20%20%20%20%20%20%20%20%20%20%20%20%20%20%20%20%22Google%20Maps%22%20%3A%20tile_layer_69ba5525997e4d7aaf2401a5c1f30db6%2C%0A%20%20%20%20%20%20%20%20%20%20%20%20%20%20%20%20%20%20%20%20%22Google%20Satellite%22%20%3A%20tile_layer_391a67739dc74368a807a7588f3870d8%2C%0A%20%20%20%20%20%20%20%20%20%20%20%20%20%20%20%20%20%20%20%20%22poly%22%20%3A%20geo_json_44018744a8f048809986cc5634f7faea%2C%0A%20%20%20%20%20%20%20%20%20%20%20%20%20%20%20%20%20%20%20%20%22%22%20%3A%20geo_json_1e247b7309eb43c49d6aff6ed17e57a4%2C%0A%20%20%20%20%20%20%20%20%20%20%20%20%20%20%20%20%7D%2C%0A%20%20%20%20%20%20%20%20%20%20%20%20%7D%3B%0A%20%20%20%20%20%20%20%20%20%20%20%20L.control.layers%28%0A%20%20%20%20%20%20%20%20%20%20%20%20%20%20%20%20layer_control_cb77b4e57d5e45e2b8b6048cfbe0e8ed.base_layers%2C%0A%20%20%20%20%20%20%20%20%20%20%20%20%20%20%20%20layer_control_cb77b4e57d5e45e2b8b6048cfbe0e8ed.overlays%2C%0A%20%20%20%20%20%20%20%20%20%20%20%20%20%20%20%20%7B%22autoZIndex%22%3A%20true%2C%20%22collapsed%22%3A%20true%2C%20%22position%22%3A%20%22topright%22%7D%0A%20%20%20%20%20%20%20%20%20%20%20%20%29.addTo%28map_c110f741cf674e559c3c3cc865c4ed62%29%3B%0A%20%20%20%20%20%20%20%20%0A%20%20%20%20%0A%20%20%20%20%20%20%20%20%20%20%20%20L.control.fullscreen%28%0A%20%20%20%20%20%20%20%20%20%20%20%20%20%20%20%20%7B%22forceSeparateButton%22%3A%20false%2C%20%22position%22%3A%20%22topleft%22%2C%20%22title%22%3A%20%22Full%20Screen%22%2C%20%22titleCancel%22%3A%20%22Exit%20Full%20Screen%22%7D%0A%20%20%20%20%20%20%20%20%20%20%20%20%29.addTo%28map_c110f741cf674e559c3c3cc865c4ed62%29%3B%0A%20%20%20%20%20%20%20%20%0A%3C/script%3E onload=\"this.contentDocument.open();this.contentDocument.write(    decodeURIComponent(this.getAttribute('data-html')));this.contentDocument.close();\" allowfullscreen webkitallowfullscreen mozallowfullscreen></iframe></div></div>"
      ],
      "text/plain": [
       "<folium.folium.Map at 0x7fe4d79ff210>"
      ]
     },
     "metadata": {},
     "output_type": "display_data"
    }
   ],
   "source": [
    "# Set visualization parameters.\n",
    "vis_params = {\n",
    "  'min': 0,\n",
    "  'max': 4000,\n",
    "  'palette': ['006633', 'E5FFCC', '662A00', 'D8D8D8', 'F5F5F5']}\n",
    "\n",
    "# Create a folium map object.\n",
    "my_map = folium.Map(location=[23.35, 121.33], zoom_start=10, height=500)\n",
    "\n",
    "# Add custom basemaps\n",
    "basemaps['Google Maps'].add_to(my_map)\n",
    "basemaps['Google Satellite Hybrid'].add_to(my_map)\n",
    "\n",
    "# Add the elevation model to the map object.\n",
    "my_map.add_ee_layer(poly, {}, 'poly')\n",
    "my_map.add_ee_layer(area_shed, dataset_vis, '')\n",
    "\n",
    "# Add a layer control panel to the map.\n",
    "my_map.add_child(folium.LayerControl())\n",
    "\n",
    "# Add fullscreen button\n",
    "plugins.Fullscreen().add_to(my_map)\n",
    "\n",
    "# Display the map.\n",
    "display(my_map)"
   ]
  },
  {
   "cell_type": "code",
   "execution_count": null,
   "id": "7da81974",
   "metadata": {},
   "outputs": [],
   "source": []
  },
  {
   "cell_type": "code",
   "execution_count": null,
   "id": "c8ba3900",
   "metadata": {},
   "outputs": [],
   "source": []
  }
 ],
 "metadata": {
  "kernelspec": {
   "display_name": "Python 3 (ipykernel)",
   "language": "python",
   "name": "python3"
  },
  "language_info": {
   "codemirror_mode": {
    "name": "ipython",
    "version": 3
   },
   "file_extension": ".py",
   "mimetype": "text/x-python",
   "name": "python",
   "nbconvert_exporter": "python",
   "pygments_lexer": "ipython3",
   "version": "3.7.11"
  }
 },
 "nbformat": 4,
 "nbformat_minor": 5
}
